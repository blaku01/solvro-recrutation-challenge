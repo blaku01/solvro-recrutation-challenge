{
 "cells": [
  {
   "cell_type": "code",
   "execution_count": 5,
   "id": "9f2c64d0",
   "metadata": {},
   "outputs": [],
   "source": [
    "path = \"C:\\Repos\\solvro-challenge\\data/\""
   ]
  },
  {
   "cell_type": "code",
   "execution_count": 20,
   "id": "0eccdc73",
   "metadata": {},
   "outputs": [
    {
     "name": "stdout",
     "output_type": "stream",
     "text": [
      "                          Shape         Minimum value         Maximum value  \\\n",
      "x_train         (49000, 300, 2) -238145076948003200.0  153303902376298752.0   \n",
      "x_train_scaled  (49000, 300, 2)                   0.0                   1.0   \n",
      "x_test          (30000, 300, 2) -215492329486935200.0  183704140353010912.0   \n",
      "x_test_scaled   (30000, 300, 2)              0.057869              1.077661   \n",
      "x_val           (21000, 300, 2) -193382326280839872.0  169189477474471488.0   \n",
      "x_val_scaled    (21000, 300, 2)              0.114351              1.040581   \n",
      "\n",
      "                          Mean value   Standard deviation  \n",
      "x_train        -3074293414210.732422   1317829649659488.5  \n",
      "x_train_scaled               0.60836             0.003372  \n",
      "x_test          7808849302969.368164  1562048554050761.75  \n",
      "x_test_scaled               0.608388             0.003997  \n",
      "x_val          -8026451593172.745117  1355674190880768.75  \n",
      "x_val_scaled                0.608348             0.003469  \n"
     ]
    }
   ],
   "source": [
    "import numpy as np\n",
    "import pandas as pd\n",
    "from sklearn.preprocessing import MinMaxScaler\n",
    "\n",
    "# Load the datasets from .npy files\n",
    "x_train = np.load(path + 'x_train.npy')\n",
    "x_test = np.load(path + 'x_test.npy')\n",
    "x_val = np.load(path + 'x_val.npy')\n",
    "\n",
    "y_train = np.load(path + 'y_train.npy')\n",
    "y_val = np.load(path + 'y_val.npy')\n",
    "\n",
    "# Function to compute statistics for a given dataset\n",
    "def compute_statistics(data):\n",
    "    return {\n",
    "        'Shape': data.shape,\n",
    "        'Minimum value': np.min(data),\n",
    "        'Maximum value': np.max(data),\n",
    "        'Mean value': np.mean(data),\n",
    "        'Standard deviation': np.std(data)\n",
    "    }\n",
    "\n",
    "# Create a table for each dataset before scaling\n",
    "x_train_stats = compute_statistics(x_train)\n",
    "x_test_stats = compute_statistics(x_test)\n",
    "x_val_stats = compute_statistics(x_val)\n",
    "\n",
    "# Apply MinMaxScaler to the datasets\n",
    "scaler = MinMaxScaler()\n",
    "x_train_scaled = scaler.fit_transform(x_train.reshape(-1, x_train.shape[-1]))\n",
    "x_train_scaled = x_train_scaled.reshape(x_train.shape)\n",
    "\n",
    "x_test_scaled = scaler.transform(x_test.reshape(-1, x_test.shape[-1]))\n",
    "x_test_scaled = x_test_scaled.reshape(x_test.shape)\n",
    "\n",
    "x_val_scaled = scaler.transform(x_val.reshape(-1, x_val.shape[-1]))\n",
    "x_val_scaled = x_val_scaled.reshape(x_val.shape)\n",
    "\n",
    "# Update statistics after scaling\n",
    "x_train_stats_scaled = compute_statistics(x_train_scaled)\n",
    "x_test_stats_scaled = compute_statistics(x_test_scaled)\n",
    "x_val_stats_scaled = compute_statistics(x_val_scaled)\n",
    "\n",
    "# Combine the statistics into a DataFrame\n",
    "statistics_table = pd.DataFrame(\n",
    "    {\n",
    "        'x_train': x_train_stats,\n",
    "        'x_train_scaled': x_train_stats_scaled,\n",
    "        'x_test': x_test_stats,\n",
    "        'x_test_scaled': x_test_stats_scaled,\n",
    "        'x_val': x_val_stats,\n",
    "        'x_val_scaled': x_val_stats_scaled\n",
    "    }\n",
    ")\n",
    "\n",
    "# Transpose the DataFrame for better readability\n",
    "statistics_table = statistics_table.T\n",
    "\n",
    "print(statistics_table)\n"
   ]
  },
  {
   "cell_type": "code",
   "execution_count": 22,
   "id": "3eab46c7",
   "metadata": {},
   "outputs": [
    {
     "name": "stdout",
     "output_type": "stream",
     "text": [
      "Original x_train shape: (49000, 300, 2)\n",
      "Original x_test shape: (30000, 300, 2)\n",
      "Original x_val shape: (21000, 300, 2)\n",
      "Filtered x_train shape: (48519, 300, 2)\n",
      "Filtered x_test shape: (29691, 300, 2)\n",
      "Filtered x_val shape: (20797, 300, 2)\n"
     ]
    }
   ],
   "source": [
    "import numpy as np\n",
    "\n",
    "def apply_filter(arr, y=None):\n",
    "    mask = (arr[:, :, 1] >= -600) & (arr[:, :, 1] <= 600)\n",
    "    if y is None:\n",
    "        return arr[mask.all(axis=1)]\n",
    "    return arr[mask.all(axis=1)], y[mask.all(axis=1)]\n",
    "\n",
    "\n",
    "# Print the shapes before applying the filter\n",
    "print(\"Original x_train shape:\", x_train.shape)\n",
    "print(\"Original x_test shape:\", x_test.shape)\n",
    "print(\"Original x_val shape:\", x_val.shape)\n",
    "\n",
    "# Apply the filter to each array\n",
    "filtered_x_train, filtered_y_train = apply_filter(x_train, y_train)\n",
    "filtered_x_test = apply_filter(x_test)\n",
    "filtered_x_val, filtered_y_val = apply_filter(x_val, y_val)\n",
    "\n",
    "# Print the shapes after applying the filter\n",
    "print(\"Filtered x_train shape:\", filtered_x_train.shape)\n",
    "print(\"Filtered x_test shape:\", filtered_x_test.shape)\n",
    "print(\"Filtered x_val shape:\", filtered_x_val.shape)\n"
   ]
  },
  {
   "cell_type": "code",
   "execution_count": 24,
   "id": "f933864b",
   "metadata": {},
   "outputs": [],
   "source": [
    "np.save(path + 'filtered_x_train.npy', filtered_x_train)\n",
    "np.save(path + 'filtered_y_train.npy', filtered_y_train)\n",
    "np.save(path + 'filtered_x_val.npy', filtered_x_val)\n",
    "np.save(path + 'filtered_y_val.npy', filtered_y_val)"
   ]
  },
  {
   "cell_type": "code",
   "execution_count": null,
   "id": "98d87f5c",
   "metadata": {},
   "outputs": [],
   "source": []
  }
 ],
 "metadata": {
  "kernelspec": {
   "display_name": "Python 3 (ipykernel)",
   "language": "python",
   "name": "python3"
  },
  "language_info": {
   "codemirror_mode": {
    "name": "ipython",
    "version": 3
   },
   "file_extension": ".py",
   "mimetype": "text/x-python",
   "name": "python",
   "nbconvert_exporter": "python",
   "pygments_lexer": "ipython3",
   "version": "3.10.9"
  }
 },
 "nbformat": 4,
 "nbformat_minor": 5
}
